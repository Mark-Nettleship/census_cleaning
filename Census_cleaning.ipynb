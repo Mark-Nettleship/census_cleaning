{
 "cells": [
  {
   "cell_type": "markdown",
   "id": "28011e8f",
   "metadata": {},
   "source": [
    "# Inspecting, cleaning, and investigating census data"
   ]
  },
  {
   "cell_type": "markdown",
   "id": "dd136e1a",
   "metadata": {},
   "source": [
    "## Inspecting and cleaning the data"
   ]
  },
  {
   "cell_type": "markdown",
   "id": "20133a06",
   "metadata": {},
   "source": [
    "#### Inspecting values and data types. Are they appropriate?"
   ]
  },
  {
   "cell_type": "code",
   "execution_count": 1,
   "id": "af617d8f",
   "metadata": {},
   "outputs": [
    {
     "name": "stdout",
     "output_type": "stream",
     "text": [
      "This sample dataframe contains 100 entries.\n",
      "\n",
      "\n",
      "A sample of entries:\n",
      "\n",
      "\n",
      "  first_name  last_name birth_year  voted  num_children  income_year  \\\n",
      "0     Denise      Ratke       2005  False             0     92129.41   \n",
      "1       Hali  Cummerata       1987  False             0     75649.17   \n",
      "2    Salomon        Orn       1992   True             2    166313.45   \n",
      "3     Sarina   Schiller       1965  False             2     71704.81   \n",
      "4       Gust  Abernathy       1945  False             2    143316.08   \n",
      "\n",
      "       higher_tax marital_status  \n",
      "0        disagree         single  \n",
      "1         neutral       divorced  \n",
      "2           agree         single  \n",
      "3  strongly agree        married  \n",
      "4           agree        married  \n",
      "\n",
      "\n",
      "-----------------------------------\n",
      "The data types of each column:\n",
      "\n",
      "\n",
      "first_name         object\n",
      "last_name          object\n",
      "birth_year         object\n",
      "voted                bool\n",
      "num_children        int64\n",
      "income_year       float64\n",
      "higher_tax         object\n",
      "marital_status     object\n",
      "dtype: object\n",
      "\n",
      "\n",
      "-----------------------------------\n"
     ]
    }
   ],
   "source": [
    "import pandas as pd\n",
    "\n",
    "census = pd.read_csv('census_data.csv', index_col=0)\n",
    "\n",
    "print(\"This sample dataframe contains \" + str(census.shape[0]) + \" entries.\\n\\n\")\n",
    "print(\"A sample of entries:\\n\\n\")\n",
    "print(census.head())\n",
    "print(\"\\n\\n-----------------------------------\")\n",
    "print(\"The data types of each column:\\n\\n\")\n",
    "print(census.dtypes)\n",
    "print(\"\\n\\n-----------------------------------\")\n"
   ]
  },
  {
   "cell_type": "markdown",
   "id": "7e2e9432",
   "metadata": {},
   "source": [
    "#### Investigating why the \"birth_year\" column is \"object\" type, not int"
   ]
  },
  {
   "cell_type": "code",
   "execution_count": 2,
   "id": "14f0fc41",
   "metadata": {},
   "outputs": [
    {
     "name": "stdout",
     "output_type": "stream",
     "text": [
      "These are the unique values in the 'birth year' column:\n",
      "\n",
      "\n",
      "['2005' '1987' '1992' '1965' '1945' '1951' '1963' '1949' '1950' '1971'\n",
      " '2007' '1944' '1995' '1973' '1946' '1954' '1994' '1989' '1947' '1993'\n",
      " '1976' '1984' 'missing' '1966' '1941' '2000' '1953' '1956' '1960' '2001'\n",
      " '1980' '1955' '1985' '1996' '1968' '1979' '2006' '1962' '1981' '1959'\n",
      " '1977' '1978' '1983' '1957' '1961' '1982' '2002' '1998' '1999' '1952'\n",
      " '1940' '1986' '1958']\n"
     ]
    }
   ],
   "source": [
    "print(\"These are the unique values in the 'birth year' column:\\n\\n\")\n",
    "\n",
    "print(census.birth_year.unique())"
   ]
  },
  {
   "cell_type": "markdown",
   "id": "cb8b0e8e",
   "metadata": {},
   "source": [
    "#### Removing rows with 'missing' birth_year value"
   ]
  },
  {
   "cell_type": "code",
   "execution_count": 3,
   "id": "95952e46",
   "metadata": {},
   "outputs": [
    {
     "name": "stdout",
     "output_type": "stream",
     "text": [
      "Rows with 'missing' birth_year values have been removed. These are the updated unique values in the 'birth year' column:\n",
      "\n",
      "\n",
      "['2005' '1987' '1992' '1965' '1945' '1951' '1963' '1949' '1950' '1971'\n",
      " '2007' '1944' '1995' '1973' '1946' '1954' '1994' '1989' '1947' '1993'\n",
      " '1976' '1984' '1966' '1941' '2000' '1953' '1956' '1960' '2001' '1980'\n",
      " '1955' '1985' '1996' '1968' '1979' '2006' '1962' '1981' '1959' '1977'\n",
      " '1978' '1983' '1957' '1961' '1982' '2002' '1998' '1999' '1952' '1940'\n",
      " '1986' '1958']\n"
     ]
    }
   ],
   "source": [
    "mask = census['birth_year'] == 'missing'\n",
    "\n",
    "census = census[~mask]\n",
    "\n",
    "print(\"Rows with 'missing' birth_year values have been removed. These are the updated unique values in the 'birth year' column:\\n\\n\")\n",
    "\n",
    "print(census.birth_year.unique())"
   ]
  },
  {
   "cell_type": "markdown",
   "id": "34e0a660",
   "metadata": {},
   "source": [
    "#### Changing the type of 'birth_year' to int"
   ]
  },
  {
   "cell_type": "code",
   "execution_count": 4,
   "id": "1a59f2f5",
   "metadata": {},
   "outputs": [
    {
     "name": "stdout",
     "output_type": "stream",
     "text": [
      "The 'birth_year' column been changed to int.\n",
      "\n",
      "\n",
      "first_name         object\n",
      "last_name          object\n",
      "birth_year          int32\n",
      "voted                bool\n",
      "num_children        int64\n",
      "income_year       float64\n",
      "higher_tax         object\n",
      "marital_status     object\n",
      "dtype: object\n"
     ]
    }
   ],
   "source": [
    "census['birth_year'] = census.birth_year.astype(int)\n",
    "\n",
    "print(\"The 'birth_year' column been changed to int.\\n\\n\")\n",
    "\n",
    "print(census.dtypes)"
   ]
  },
  {
   "cell_type": "markdown",
   "id": "dbcebb14",
   "metadata": {},
   "source": [
    "#### Finding the mean birth year"
   ]
  },
  {
   "cell_type": "code",
   "execution_count": 5,
   "id": "4239d2cf",
   "metadata": {},
   "outputs": [
    {
     "name": "stdout",
     "output_type": "stream",
     "text": [
      "1973.4646464646464\n"
     ]
    }
   ],
   "source": [
    "print(census.birth_year.mean())"
   ]
  },
  {
   "cell_type": "markdown",
   "id": "80fca732",
   "metadata": {},
   "source": [
    "## Grouping categorical variables and adding columns to dataframe"
   ]
  },
  {
   "cell_type": "markdown",
   "id": "b464184e",
   "metadata": {},
   "source": [
    "#### Setting an order to the categorical variable 'higher_tax'"
   ]
  },
  {
   "cell_type": "code",
   "execution_count": 6,
   "id": "096f420c",
   "metadata": {},
   "outputs": [
    {
     "name": "stdout",
     "output_type": "stream",
     "text": [
      "A sample of entries showing the new 'higher_tax_code' column:\n",
      "\n",
      "\n",
      "  first_name  last_name  higher_tax_codes\n",
      "0     Denise      Ratke                 1\n",
      "1       Hali  Cummerata                 2\n",
      "2    Salomon        Orn                 3\n",
      "3     Sarina   Schiller                 4\n",
      "4       Gust  Abernathy                 3\n",
      "5       Lady      Hills                 1\n",
      "6   Tremaine    Pacocha                 0\n",
      "7      Jaime      Towne                 3\n",
      "8        Tex      Lynch                 3\n",
      "9  Nathanial   Gislason                 4\n"
     ]
    }
   ],
   "source": [
    "census['higher_tax'] = pd.Categorical(census['higher_tax'], ['strongly disagree', 'disagree', 'neutral', 'agree', 'strongly agree'], ordered=True)\n",
    "\n",
    "census['higher_tax_codes'] = census['higher_tax'].cat.codes\n",
    "\n",
    "print(\"A sample of entries showing the new 'higher_tax_code' column:\\n\\n\")\n",
    "\n",
    "print(census.loc[:,['first_name', 'last_name', 'higher_tax_codes']].head(10))"
   ]
  },
  {
   "cell_type": "markdown",
   "id": "75da72aa",
   "metadata": {},
   "source": [
    "#### Assigning cat codes to find the median value for the higher_tax column"
   ]
  },
  {
   "cell_type": "code",
   "execution_count": 7,
   "id": "fc3370d3",
   "metadata": {},
   "outputs": [
    {
     "name": "stdout",
     "output_type": "stream",
     "text": [
      "The median value for the 'higher_tax' column is:\n",
      "\n",
      "2.0\n"
     ]
    }
   ],
   "source": [
    "print(\"The median value for the 'higher_tax' column is:\\n\")\n",
    "print(census.higher_tax_codes.median())"
   ]
  },
  {
   "cell_type": "markdown",
   "id": "be1ce33f",
   "metadata": {},
   "source": [
    "#### Assigning cat codes to marital_status"
   ]
  },
  {
   "cell_type": "code",
   "execution_count": 8,
   "id": "31743906",
   "metadata": {},
   "outputs": [
    {
     "name": "stdout",
     "output_type": "stream",
     "text": [
      "['single', 'divorced', 'married', 'widowed']\n",
      "  first_name  last_name  birth_year  voted  num_children  income_year  \\\n",
      "0     Denise      Ratke        2005  False             0     92129.41   \n",
      "1       Hali  Cummerata        1987  False             0     75649.17   \n",
      "2    Salomon        Orn        1992   True             2    166313.45   \n",
      "3     Sarina   Schiller        1965  False             2     71704.81   \n",
      "4       Gust  Abernathy        1945  False             2    143316.08   \n",
      "\n",
      "       higher_tax marital_status  higher_tax_codes  marital_status_codes  \n",
      "0        disagree         single                 1                     0  \n",
      "1         neutral       divorced                 2                     1  \n",
      "2           agree         single                 3                     0  \n",
      "3  strongly agree        married                 4                     2  \n",
      "4           agree        married                 3                     2  \n"
     ]
    }
   ],
   "source": [
    "statuses =[census.marital_status.unique()]\n",
    "\n",
    "statuses_list =[]\n",
    "\n",
    "for i in statuses[0]:\n",
    "    statuses_list.append(i)\n",
    "    \n",
    "print(statuses_list) \n",
    "\n",
    "census['marital_status'] = pd.Categorical(census['marital_status'], statuses_list, ordered=False)\n",
    "\n",
    "census['marital_status_codes'] = census['marital_status'].cat.codes\n",
    "\n",
    "print(census.head())"
   ]
  },
  {
   "cell_type": "markdown",
   "id": "480d9376",
   "metadata": {},
   "source": [
    " #### Creating an age_group column by creating and applying a function to each value in the birth_year column"
   ]
  },
  {
   "cell_type": "code",
   "execution_count": 9,
   "id": "451fba17",
   "metadata": {},
   "outputs": [
    {
     "name": "stdout",
     "output_type": "stream",
     "text": [
      "  first_name  last_name  birth_year  voted  num_children  income_year  \\\n",
      "0     Denise      Ratke        2005  False             0     92129.41   \n",
      "1       Hali  Cummerata        1987  False             0     75649.17   \n",
      "2    Salomon        Orn        1992   True             2    166313.45   \n",
      "3     Sarina   Schiller        1965  False             2     71704.81   \n",
      "4       Gust  Abernathy        1945  False             2    143316.08   \n",
      "\n",
      "       higher_tax marital_status  higher_tax_codes  marital_status_codes  \\\n",
      "0        disagree         single                 1                     0   \n",
      "1         neutral       divorced                 2                     1   \n",
      "2           agree         single                 3                     0   \n",
      "3  strongly agree        married                 4                     2   \n",
      "4           agree        married                 3                     2   \n",
      "\n",
      "  age_group  age_group_codes  \n",
      "0    0 - 20                0  \n",
      "1   20 - 40                1  \n",
      "2   20 - 40                1  \n",
      "3   40 - 60                2  \n",
      "4   60 - 80                3  \n"
     ]
    }
   ],
   "source": [
    "def add_to_age_group(birth_year):\n",
    "    x = 2024 - birth_year\n",
    "    if x <= 20:\n",
    "        return '0 - 20'\n",
    "    elif x <= 40:\n",
    "        return '20 - 40'\n",
    "    elif x <= 60:\n",
    "        return '40 - 60'\n",
    "    elif x <= 80:\n",
    "        return '60 - 80'\n",
    "    else:\n",
    "        return 'Over 80'\n",
    "\n",
    "\n",
    "census['age_group'] = census.birth_year.apply(add_to_age_group)\n",
    "ages = census.age_group.unique()\n",
    "census.age_group = pd.Categorical(census.age_group, ages, ordered=True)\n",
    "census['age_group_codes'] = census.age_group.cat.codes\n",
    "\n",
    "print(census.head())"
   ]
  },
  {
   "cell_type": "markdown",
   "id": "53347d7c",
   "metadata": {},
   "source": [
    "#### Checking how many people fall into each age group"
   ]
  },
  {
   "cell_type": "code",
   "execution_count": 10,
   "id": "5a5272be",
   "metadata": {},
   "outputs": [
    {
     "name": "stdout",
     "output_type": "stream",
     "text": [
      "60 - 80    38\n",
      "20 - 40    28\n",
      "40 - 60    21\n",
      "0 - 20      9\n",
      "Over 80     3\n",
      "Name: age_group, dtype: int64\n"
     ]
    }
   ],
   "source": [
    "print(census.age_group.value_counts())"
   ]
  },
  {
   "cell_type": "markdown",
   "id": "b4c810c5",
   "metadata": {},
   "source": [
    "#### Adding a column for age"
   ]
  },
  {
   "cell_type": "code",
   "execution_count": 11,
   "id": "5c3b4843",
   "metadata": {},
   "outputs": [
    {
     "name": "stdout",
     "output_type": "stream",
     "text": [
      "  first_name  last_name  birth_year  voted  num_children  income_year  \\\n",
      "0     Denise      Ratke        2005  False             0     92129.41   \n",
      "1       Hali  Cummerata        1987  False             0     75649.17   \n",
      "2    Salomon        Orn        1992   True             2    166313.45   \n",
      "3     Sarina   Schiller        1965  False             2     71704.81   \n",
      "4       Gust  Abernathy        1945  False             2    143316.08   \n",
      "5       Lady      Hills        1951   True             0    160391.20   \n",
      "6   Tremaine    Pacocha        1963  False             1     49801.77   \n",
      "7      Jaime      Towne        1949  False             2    140803.16   \n",
      "8        Tex      Lynch        1950  False             1    122486.71   \n",
      "9  Nathanial   Gislason        1971   True             4    157088.26   \n",
      "\n",
      "          higher_tax marital_status  higher_tax_codes  marital_status_codes  \\\n",
      "0           disagree         single                 1                     0   \n",
      "1            neutral       divorced                 2                     1   \n",
      "2              agree         single                 3                     0   \n",
      "3     strongly agree        married                 4                     2   \n",
      "4              agree        married                 3                     2   \n",
      "5           disagree        widowed                 1                     3   \n",
      "6  strongly disagree       divorced                 0                     1   \n",
      "7              agree         single                 3                     0   \n",
      "8              agree         single                 3                     0   \n",
      "9     strongly agree        married                 4                     2   \n",
      "\n",
      "  age_group  age_group_codes  estimated_age +-1  \n",
      "0    0 - 20                0                 19  \n",
      "1   20 - 40                1                 37  \n",
      "2   20 - 40                1                 32  \n",
      "3   40 - 60                2                 59  \n",
      "4   60 - 80                3                 79  \n",
      "5   60 - 80                3                 73  \n",
      "6   60 - 80                3                 61  \n",
      "7   60 - 80                3                 75  \n",
      "8   60 - 80                3                 74  \n",
      "9   40 - 60                2                 53  \n"
     ]
    }
   ],
   "source": [
    "def add_age(birth_year):\n",
    "    age = 2024 - birth_year\n",
    "    return age\n",
    "\n",
    "census['estimated_age +-1'] = census.birth_year.apply(add_age)\n",
    "\n",
    "print(census.head(10))"
   ]
  },
  {
   "cell_type": "markdown",
   "id": "a173370d",
   "metadata": {},
   "source": [
    "## Checking for correlation between variables:\n",
    "\n",
    "#### Is there a correlation between higher tax agreement and income?\n",
    "\n",
    "#### Is there a correlation between higher tax agreement and number of children?\n",
    "\n",
    "#### Is there a correlation between age group and income?\n",
    "\n",
    "#### Is there a correlation between income and number of children?"
   ]
  },
  {
   "cell_type": "code",
   "execution_count": 12,
   "id": "29474cfa",
   "metadata": {
    "scrolled": true
   },
   "outputs": [
    {
     "name": "stdout",
     "output_type": "stream",
     "text": [
      "Testing for correlation between higher_tax_codes and income_year.\n",
      "\n",
      "\n",
      "r value: 0.1704588059723791( Weak positive correlation between higher_tax_codes and income_year.)\n",
      "\n",
      "\n",
      "-----------------------\n",
      "\n",
      "\n",
      "Testing for correlation between higher_tax_codes and num_children.\n",
      "\n",
      "\n",
      "r value: 0.14486627534310623( Weak positive correlation between higher_tax_codes and num_children.)\n",
      "\n",
      "\n",
      "-----------------------\n",
      "\n",
      "\n",
      "Testing for correlation between higher_tax_codes and voted.\n",
      "\n",
      "\n",
      "r value: -0.13800352401376892( Weak negative correlation between higher_tax_codes and voted.)\n",
      "\n",
      "\n",
      "-----------------------\n",
      "\n",
      "\n",
      "Testing for correlation between age_group_codes and income_year.\n",
      "\n",
      "\n",
      "r value: -0.007244000955307749( Weak negative correlation between age_group_codes and income_year.)\n",
      "\n",
      "\n",
      "-----------------------\n",
      "\n",
      "\n",
      "Testing for correlation between age_group_codes and num_children.\n",
      "\n",
      "\n",
      "r value: 0.1093942945140923( Weak positive correlation between age_group_codes and num_children.)\n",
      "\n",
      "\n",
      "-----------------------\n",
      "\n",
      "\n",
      "Testing for correlation between age_group_codes and voted.\n",
      "\n",
      "\n",
      "r value: -0.2077896367852946( Weak negative correlation between age_group_codes and voted.)\n",
      "\n",
      "\n",
      "-----------------------\n",
      "\n",
      "\n",
      "Testing for correlation between income_year and num_children.\n",
      "\n",
      "\n",
      "r value: 0.2513111869812619( Weak positive correlation between income_year and num_children.)\n",
      "\n",
      "\n",
      "-----------------------\n",
      "\n",
      "\n",
      "Testing for correlation between income_year and voted.\n",
      "\n",
      "\n",
      "r value: 0.1305995830652609( Weak positive correlation between income_year and voted.)\n",
      "\n",
      "\n",
      "-----------------------\n",
      "\n",
      "\n",
      "Testing for correlation between marital_status_codes and income_year.\n",
      "\n",
      "\n",
      "r value: -0.11493520933237918( Weak negative correlation between marital_status_codes and income_year.)\n",
      "\n",
      "\n",
      "-----------------------\n",
      "\n",
      "\n",
      "Testing for correlation between marital_status_codes and num_children.\n",
      "\n",
      "\n",
      "r value: 0.07891884594155645( Weak positive correlation between marital_status_codes and num_children.)\n",
      "\n",
      "\n",
      "-----------------------\n",
      "\n",
      "\n",
      "Testing for correlation between marital_status_codes and voted.\n",
      "\n",
      "\n",
      "r value: 0.014870813293635125( Weak positive correlation between marital_status_codes and voted.)\n",
      "\n",
      "\n",
      "-----------------------\n",
      "\n",
      "\n"
     ]
    }
   ],
   "source": [
    "variablesA = ['higher_tax_codes', 'age_group_codes', 'income_year', 'marital_status_codes']\n",
    "variablesB = ['income_year','num_children','voted']\n",
    "\n",
    "for i in variablesA:\n",
    "    for j in variablesB:\n",
    "        if i == j:\n",
    "            continue\n",
    "        else:\n",
    "            correlation = (census[i].corr(census[j]))\n",
    "            print(\"Testing for correlation between \" + str(i) + \" and \" + str(j) + \".\")\n",
    "            print(\"\\n\")\n",
    "            if correlation == 1:\n",
    "                print(\"r value: \" + str(correlation) + \"(Perfect positive correlation between \" + str(i) + \" and \" + str(j) + \".)\")\n",
    "            elif 0.8 <= correlation < 1:\n",
    "                print(\"r value: \" + str(correlation) + \"(Strong positive correlation between \" + str(i) + \" and \" + str(j) + \".)\")\n",
    "            elif 0.4 <= correlation < 0.8:\n",
    "                print(\"r value: \" + str(correlation) + \"( Moderate positive correlation between \" + str(i) + \" and \" + str(j) + \".)\")\n",
    "            elif 0 <= correlation < 0.4:\n",
    "                print(\"r value: \" + str(correlation) + \"( Weak positive correlation between \" + str(i) + \" and \" + str(j) + \".)\")\n",
    "            elif 0 > correlation > -0.4:\n",
    "                print(\"r value: \" + str(correlation) + \"( Weak negative correlation between \" + str(i) + \" and \" + str(j) + \".)\")\n",
    "            elif -0.4 >= correlation > -0.8:\n",
    "                print(\"r value: \" + str(correlation) + \"( Moderate negative correlation between \" + str(i) + \" and \" + str(j) + \".)\")\n",
    "            elif -0.8 >= correlation > -1:\n",
    "                print(\"r value: \" + str(correlation) + \"( Strong negative correlation between \" + str(i) + \" and \" + str(j) + \".)\")\n",
    "            elif correlation == -1:\n",
    "                print(\"r value: \" + str(correlation) + \"( Perfect negative correlation between \" + str(i) + \" and \" + str(j) + \".)\")\n",
    "            print(\"\\n\")\n",
    "            print(\"-----------------------\")\n",
    "            print(\"\\n\")\n",
    "\n",
    "\n"
   ]
  },
  {
   "cell_type": "markdown",
   "id": "72655a5d",
   "metadata": {},
   "source": [
    "#### How much support is there for a higher tax rate?"
   ]
  },
  {
   "cell_type": "code",
   "execution_count": 13,
   "id": "9e8d5f52",
   "metadata": {},
   "outputs": [
    {
     "data": {
      "image/png": "[encoded data removed]",
      "text/plain": [
       "<Figure size 432x288 with 1 Axes>"
      ]
     },
     "metadata": {
      "needs_background": "light"
     },
     "output_type": "display_data"
    }
   ],
   "source": [
    "import matplotlib.pyplot as plt\n",
    "\n",
    "#print(census.higher_tax.value_counts().sort_index())\n",
    "\n",
    "#vc = census.higher_tax.value_counts()\n",
    "#labels = vc.index\n",
    "\n",
    "label_order = ['strongly disagree', 'disagree', 'neutral', 'agree', 'strongly agree']\n",
    "\n",
    "fig,ax = plt.subplots()\n",
    "\n",
    "bar_colours = ['red','orange','yellow','lightgreen','green']\n",
    "ax.bar(label_order, census.higher_tax.value_counts().sort_index(),color=bar_colours)\n",
    "ax.set_ylabel('Responses')\n",
    "ax.set_title('Responses to \"I would be in favour of a higher tax rate\"')\n",
    "plt.setp(ax.get_xticklabels(), rotation=30, horizontalalignment='right')\n",
    "\n",
    "plt.show()"
   ]
  },
  {
   "cell_type": "code",
   "execution_count": 14,
   "id": "dd5a9fdd",
   "metadata": {},
   "outputs": [
    {
     "data": {
      "image/png": "[encoded data removed]",
      "text/plain": [
       "<Figure size 432x288 with 1 Axes>"
      ]
     },
     "metadata": {
      "needs_background": "light"
     },
     "output_type": "display_data"
    }
   ],
   "source": [
    "# print(census.higher_tax.value_counts().sort_index())\n",
    "\n",
    "inFavour = census.higher_tax.value_counts().sort_index()[0] + census.higher_tax.value_counts().sort_index()[1]\n",
    "neutral = census.higher_tax.value_counts().sort_index()[2]\n",
    "opposed = census.higher_tax.value_counts().sort_index()[3]+ census.higher_tax.value_counts().sort_index()[4]\n",
    "\n",
    "groupedResponses = [inFavour, neutral, opposed]\n",
    "\n",
    "label_order = ['In favour','Neutral','Opposed']\n",
    "\n",
    "fig,ax = plt.subplots()\n",
    "\n",
    "bar_colours = ['green','yellow','red']\n",
    "ax.bar(label_order, groupedResponses,color=bar_colours)\n",
    "ax.set_ylabel('Responses')\n",
    "ax.set_title('Responses to \"I would be in favour of a higher tax rate\"')\n",
    "plt.setp(ax.get_xticklabels(), rotation=30, horizontalalignment='right')\n",
    "\n",
    "for i in range(len(label_order)):\n",
    "    plt.text(i,groupedResponses[i]//2,groupedResponses[i], ha = \"center\", bbox = dict(facecolor = 'white', alpha =.8))\n",
    "\n",
    "\n",
    "plt.show()"
   ]
  },
  {
   "cell_type": "markdown",
   "id": "128b1a12",
   "metadata": {},
   "source": [
    "# Conclusions\n",
    "\n",
    "#### Is there a relationship between higher tax agreement and income?\n",
    "\n",
    "There is a weak positive correlation between higher tax agreement and income.\n",
    "\n",
    "#### Is there a relationship between higher tax agreement and number of children?\n",
    "\n",
    "There is a weak positive correlation between higher tax agreement and number of children.\n",
    "\n",
    "#### Is there a relationship between age group and income?\n",
    "\n",
    "There is a weak negative correlation between age group and income.\n",
    "\n",
    "#### Is there a relationship between income and number of children?\n",
    "\n",
    "There is a weak positive correlation between income and number of children.\n",
    "\n",
    "#### How much support is there for a higher tax rate?\n",
    "\n",
    "48 people are in favour of it, 43 are opposed. 8 are neutral. \n"
   ]
  }
 ],
 "metadata": {
  "kernelspec": {
   "display_name": "Python 3",
   "language": "python",
   "name": "python3"
  },
  "language_info": {
   "codemirror_mode": {
    "name": "ipython",
    "version": 3
   },
   "file_extension": ".py",
   "mimetype": "text/x-python",
   "name": "python",
   "nbconvert_exporter": "python",
   "pygments_lexer": "ipython3",
   "version": "3.8.8"
  }
 },
 "nbformat": 4,
 "nbformat_minor": 5
}
